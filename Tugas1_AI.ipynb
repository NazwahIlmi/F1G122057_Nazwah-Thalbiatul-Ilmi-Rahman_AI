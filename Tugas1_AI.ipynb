{
 "cells": [
  {
   "cell_type": "markdown",
   "id": "9b804a74-55f4-430e-a8ea-974967d217e8",
   "metadata": {},
   "source": [
    "## Data"
   ]
  },
  {
   "cell_type": "markdown",
   "id": "4e8aff7c-07b7-4e2f-8c9b-e12f3d0d67bc",
   "metadata": {},
   "source": [
    "#### Library"
   ]
  },
  {
   "cell_type": "code",
   "execution_count": 1,
   "id": "649111f7-f651-474e-b8d8-2b24b8d0cb9e",
   "metadata": {},
   "outputs": [],
   "source": [
    "import pandas as pd\n",
    "import numpy as np\n",
    "import matplotlib.pyplot as plt\n",
    "\n",
    "from sklearn.preprocessing import MinMaxScaler\n",
    "from sklearn.tree import DecisionTreeRegressor\n",
    "from sklearn import metrics\n",
    "from sklearn.model_selection import train_test_split, GridSearchCV\n",
    "from sklearn.tree import DecisionTreeClassifier\n",
    "from sklearn.model_selection import KFold, cross_val_score\n"
   ]
  },
  {
   "cell_type": "markdown",
   "id": "9203cd94-711e-4fd1-96e0-deec77479414",
   "metadata": {},
   "source": [
    "##### Mengimport semua library dan module yang dibutuhkan "
   ]
  },
  {
   "cell_type": "code",
   "execution_count": 2,
   "id": "f691846a-4f25-4887-abe5-b65df452db05",
   "metadata": {},
   "outputs": [],
   "source": [
    "pd.options.mode.copy_on_write = True \n",
    "pd.set_option('display.max_columns', None) \n",
    "pd.set_option('display.max_colwidth', None) "
   ]
  },
  {
   "cell_type": "markdown",
   "id": "3e110112-e373-49df-a6a3-fa590920427a",
   "metadata": {},
   "source": [
    "##### pd.options.mode.copy_on_write = True:\n",
    "\n",
    "Baris ini mengatur library pandas untuk mengizinkan penulisan ulang pada variabel. baris ini digunakan untuk menghindari masalah yang mungkin muncul akibat perubahan tak terduga pada DataFrame.\n",
    "\n",
    "##### pd.set_option('display.max_columns', None):\n",
    "\n",
    "Baris ini mengatur library pandas untuk menampilkan semua kolom DataFrame saat diprint/dicetak. Dengan kata lain, tidak ada kolom yang disembunyikan dalam tampilan DataFrame, sehingga seluruh kolom akan terlihat ketika DataFrame ditampilkan.\n",
    "\n",
    "##### pd.set_option('display.max_colwidth', None):\n",
    "\n",
    "Baris ini mengatur library pandas untuk menampilkan seluruh isi dari setiap fitur (kolom) dalam DataFrame. Ini berarti bahwa tidak ada data dalam kolom yang akan dipotong atau disembunyikan, sehingga dapat dilihat seluruh teks atau nilai dalam kolom tersebut."
   ]
  },
  {
   "cell_type": "code",
   "execution_count": 3,
   "id": "67ded92e-f2ae-41b5-b9d4-ae171bba5a7e",
   "metadata": {},
   "outputs": [
    {
     "data": {
      "text/html": [
       "<div>\n",
       "<style scoped>\n",
       "    .dataframe tbody tr th:only-of-type {\n",
       "        vertical-align: middle;\n",
       "    }\n",
       "\n",
       "    .dataframe tbody tr th {\n",
       "        vertical-align: top;\n",
       "    }\n",
       "\n",
       "    .dataframe thead th {\n",
       "        text-align: right;\n",
       "    }\n",
       "</style>\n",
       "<table border=\"1\" class=\"dataframe\">\n",
       "  <thead>\n",
       "    <tr style=\"text-align: right;\">\n",
       "      <th></th>\n",
       "      <th>Unnamed: 0</th>\n",
       "      <th>airline</th>\n",
       "      <th>flight</th>\n",
       "      <th>source_city</th>\n",
       "      <th>departure_time</th>\n",
       "      <th>stops</th>\n",
       "      <th>arrival_time</th>\n",
       "      <th>destination_city</th>\n",
       "      <th>class</th>\n",
       "      <th>duration</th>\n",
       "      <th>days_left</th>\n",
       "      <th>price</th>\n",
       "    </tr>\n",
       "  </thead>\n",
       "  <tbody>\n",
       "    <tr>\n",
       "      <th>0</th>\n",
       "      <td>0</td>\n",
       "      <td>SpiceJet</td>\n",
       "      <td>SG-8709</td>\n",
       "      <td>Delhi</td>\n",
       "      <td>Evening</td>\n",
       "      <td>zero</td>\n",
       "      <td>Night</td>\n",
       "      <td>Mumbai</td>\n",
       "      <td>Economy</td>\n",
       "      <td>2.17</td>\n",
       "      <td>1</td>\n",
       "      <td>5953</td>\n",
       "    </tr>\n",
       "    <tr>\n",
       "      <th>1</th>\n",
       "      <td>1</td>\n",
       "      <td>SpiceJet</td>\n",
       "      <td>SG-8157</td>\n",
       "      <td>Delhi</td>\n",
       "      <td>Early_Morning</td>\n",
       "      <td>zero</td>\n",
       "      <td>Morning</td>\n",
       "      <td>Mumbai</td>\n",
       "      <td>Economy</td>\n",
       "      <td>2.33</td>\n",
       "      <td>1</td>\n",
       "      <td>5953</td>\n",
       "    </tr>\n",
       "    <tr>\n",
       "      <th>2</th>\n",
       "      <td>2</td>\n",
       "      <td>AirAsia</td>\n",
       "      <td>I5-764</td>\n",
       "      <td>Delhi</td>\n",
       "      <td>Early_Morning</td>\n",
       "      <td>zero</td>\n",
       "      <td>Early_Morning</td>\n",
       "      <td>Mumbai</td>\n",
       "      <td>Economy</td>\n",
       "      <td>2.17</td>\n",
       "      <td>1</td>\n",
       "      <td>5956</td>\n",
       "    </tr>\n",
       "    <tr>\n",
       "      <th>3</th>\n",
       "      <td>3</td>\n",
       "      <td>Vistara</td>\n",
       "      <td>UK-995</td>\n",
       "      <td>Delhi</td>\n",
       "      <td>Morning</td>\n",
       "      <td>zero</td>\n",
       "      <td>Afternoon</td>\n",
       "      <td>Mumbai</td>\n",
       "      <td>Economy</td>\n",
       "      <td>2.25</td>\n",
       "      <td>1</td>\n",
       "      <td>5955</td>\n",
       "    </tr>\n",
       "    <tr>\n",
       "      <th>4</th>\n",
       "      <td>4</td>\n",
       "      <td>Vistara</td>\n",
       "      <td>UK-963</td>\n",
       "      <td>Delhi</td>\n",
       "      <td>Morning</td>\n",
       "      <td>zero</td>\n",
       "      <td>Morning</td>\n",
       "      <td>Mumbai</td>\n",
       "      <td>Economy</td>\n",
       "      <td>2.33</td>\n",
       "      <td>1</td>\n",
       "      <td>5955</td>\n",
       "    </tr>\n",
       "  </tbody>\n",
       "</table>\n",
       "</div>"
      ],
      "text/plain": [
       "   Unnamed: 0   airline   flight source_city departure_time stops  \\\n",
       "0           0  SpiceJet  SG-8709       Delhi        Evening  zero   \n",
       "1           1  SpiceJet  SG-8157       Delhi  Early_Morning  zero   \n",
       "2           2   AirAsia   I5-764       Delhi  Early_Morning  zero   \n",
       "3           3   Vistara   UK-995       Delhi        Morning  zero   \n",
       "4           4   Vistara   UK-963       Delhi        Morning  zero   \n",
       "\n",
       "    arrival_time destination_city    class  duration  days_left  price  \n",
       "0          Night           Mumbai  Economy      2.17          1   5953  \n",
       "1        Morning           Mumbai  Economy      2.33          1   5953  \n",
       "2  Early_Morning           Mumbai  Economy      2.17          1   5956  \n",
       "3      Afternoon           Mumbai  Economy      2.25          1   5955  \n",
       "4        Morning           Mumbai  Economy      2.33          1   5955  "
      ]
     },
     "execution_count": 3,
     "metadata": {},
     "output_type": "execute_result"
    }
   ],
   "source": [
    "data = pd.read_csv(\"C:/Users/ASUS/Documents/Kecerdasan_Buatan/Clean_Dataset.csv\")\n",
    "data.head()"
   ]
  },
  {
   "cell_type": "markdown",
   "id": "41e54525-fc5b-4692-a1d5-93b2d552f680",
   "metadata": {},
   "source": [
    "##### variabel data menyimpan DataFrame yang merupakan hasil dari pengimportan dari pembacaan file CSV di atas\n",
    "\n",
    "##### Method head() menampilkan lima baris pertama dari DataFrame secara default.Hal tersebut berguna untuk mendapatkan gambaran cepat tentang struktur dan isi data dalam DataFrame."
   ]
  },
  {
   "cell_type": "markdown",
   "id": "8670366d-af46-4712-9786-d035d8b5de68",
   "metadata": {},
   "source": [
    "#### Cleaning Data\n"
   ]
  },
  {
   "cell_type": "code",
   "execution_count": 4,
   "id": "4a85ebf4-acea-4c96-aeec-0d2901eb0f5e",
   "metadata": {},
   "outputs": [
    {
     "name": "stdout",
     "output_type": "stream",
     "text": [
      "<class 'pandas.core.frame.DataFrame'>\n",
      "RangeIndex: 300153 entries, 0 to 300152\n",
      "Data columns (total 12 columns):\n",
      " #   Column            Non-Null Count   Dtype  \n",
      "---  ------            --------------   -----  \n",
      " 0   Unnamed: 0        300153 non-null  int64  \n",
      " 1   airline           300153 non-null  object \n",
      " 2   flight            300153 non-null  object \n",
      " 3   source_city       300153 non-null  object \n",
      " 4   departure_time    300153 non-null  object \n",
      " 5   stops             300153 non-null  object \n",
      " 6   arrival_time      300153 non-null  object \n",
      " 7   destination_city  300153 non-null  object \n",
      " 8   class             300153 non-null  object \n",
      " 9   duration          300153 non-null  float64\n",
      " 10  days_left         300153 non-null  int64  \n",
      " 11  price             300153 non-null  int64  \n",
      "dtypes: float64(1), int64(3), object(8)\n",
      "memory usage: 27.5+ MB\n"
     ]
    }
   ],
   "source": [
    "data.info()"
   ]
  },
  {
   "cell_type": "markdown",
   "id": "b224ce5e-d12d-4a32-a112-638a77fdab29",
   "metadata": {},
   "source": [
    "##### Untuk melakukan cleaning data maka dilakukan terlebih dahulu pengecekan info data yang akan dikelola/dicleaning\n",
    "\n",
    "##### Caranya dengan menggunakan method info().\n",
    "\n",
    "##### Method info()digunakan untuk melihat informasi DataFrame. Informasi yang ditampilkan berupa informasi jumlah baris (300153 baris), jumlah kolom (12 kolom), tipe data, dan memori yang digunakan"
   ]
  },
  {
   "cell_type": "code",
   "execution_count": 5,
   "id": "8be82154-32e5-47e5-93d9-47fe8ce7765d",
   "metadata": {},
   "outputs": [
    {
     "data": {
      "text/plain": [
       "Unnamed: 0          0\n",
       "airline             0\n",
       "flight              0\n",
       "source_city         0\n",
       "departure_time      0\n",
       "stops               0\n",
       "arrival_time        0\n",
       "destination_city    0\n",
       "class               0\n",
       "duration            0\n",
       "days_left           0\n",
       "price               0\n",
       "dtype: int64"
      ]
     },
     "execution_count": 5,
     "metadata": {},
     "output_type": "execute_result"
    }
   ],
   "source": [
    "data.isna().sum()"
   ]
  },
  {
   "cell_type": "markdown",
   "id": "75bcf0a9-8b5c-4e5a-843b-7764d9acf9fb",
   "metadata": {},
   "source": [
    "##### Method isna().sum() menampilkan nama setiap kolom dan nilai null/kosong yang ada pada setiap kolom\n",
    "\n",
    "##### Terlihat pada output code di atas terdapat kolom yang tidak memiliki nama dan semua kolom tidak ada yang memiliki nilai null (ditandai dengan angka '0' yang berarti tdk ada null) "
   ]
  },
  {
   "cell_type": "code",
   "execution_count": 6,
   "id": "32c8b386-2618-4d45-a9c0-f7067c44bdf2",
   "metadata": {},
   "outputs": [],
   "source": [
    "data.drop(columns='Unnamed: 0', inplace=True)"
   ]
  },
  {
   "cell_type": "markdown",
   "id": "e6368431-757f-41ba-b682-558376b6b925",
   "metadata": {},
   "source": [
    "##### Karena terdapat kolom yang tidak memiliki nama, maka kita cleaning kolom tsb dengan menggunakan method drop()"
   ]
  },
  {
   "cell_type": "code",
   "execution_count": 7,
   "id": "11d32974-a6f1-4715-b7d0-30beea1ac05a",
   "metadata": {},
   "outputs": [],
   "source": [
    "data.rename(columns={'class': 'flight_class'}, inplace=True)"
   ]
  },
  {
   "cell_type": "markdown",
   "id": "d4939f85-c6ed-404d-ad79-0344fe3efeb4",
   "metadata": {},
   "source": [
    "##### Code di atas berfungsi untuk merename/mengganti nama kolom class menjadi flight_class. Hal tsb dilakukan untuk memudahkan dan memperjelas nama kolom"
   ]
  },
  {
   "cell_type": "code",
   "execution_count": 8,
   "id": "a4a36877-8a92-4c38-99ad-330937354176",
   "metadata": {},
   "outputs": [
    {
     "name": "stdout",
     "output_type": "stream",
     "text": [
      "<class 'pandas.core.frame.DataFrame'>\n",
      "RangeIndex: 300153 entries, 0 to 300152\n",
      "Data columns (total 11 columns):\n",
      " #   Column            Non-Null Count   Dtype  \n",
      "---  ------            --------------   -----  \n",
      " 0   airline           300153 non-null  object \n",
      " 1   flight            300153 non-null  object \n",
      " 2   source_city       300153 non-null  object \n",
      " 3   departure_time    300153 non-null  object \n",
      " 4   stops             300153 non-null  object \n",
      " 5   arrival_time      300153 non-null  object \n",
      " 6   destination_city  300153 non-null  object \n",
      " 7   flight_class      300153 non-null  object \n",
      " 8   duration          300153 non-null  float64\n",
      " 9   days_left         300153 non-null  int64  \n",
      " 10  price             300153 non-null  int64  \n",
      "dtypes: float64(1), int64(2), object(8)\n",
      "memory usage: 25.2+ MB\n"
     ]
    }
   ],
   "source": [
    "data.info()"
   ]
  },
  {
   "cell_type": "markdown",
   "id": "eb847f41-fdee-45ed-a970-ced6fc0ec0bb",
   "metadata": {},
   "source": [
    "##### Memanggil kembali method info() untuk melihat bahwa kolom 'Unnamed' telah terhapus dan kolom 'flight' berubah nama menjadi 'flight_name'"
   ]
  },
  {
   "cell_type": "markdown",
   "id": "f2ca3e1c-1934-440a-8a3a-7445f8743919",
   "metadata": {},
   "source": [
    "## Preprocessing"
   ]
  },
  {
   "cell_type": "markdown",
   "id": "e2fadbda-ae5e-4359-919d-e025406eb9e3",
   "metadata": {},
   "source": [
    "#### 1. Mengubah Data Kategori menjadi Numerik"
   ]
  },
  {
   "cell_type": "code",
   "execution_count": 9,
   "id": "0889ae0c-68c7-4430-8099-153f728c2538",
   "metadata": {},
   "outputs": [],
   "source": [
    "# Kolom : airline\n",
    "data.airline = data.airline.replace(\n",
    "    {\n",
    "        'Vistara' : 1,\n",
    "        'Air_India' : 2,\n",
    "        'Indigo' : 3,\n",
    "        'GO_FIRST' : 4,\n",
    "        'AirAsia': 5,\n",
    "        'SpiceJet' : 6  \n",
    "    }\n",
    ")"
   ]
  },
  {
   "cell_type": "markdown",
   "id": "78ff3529-cae0-4f69-9c11-38338f403f6e",
   "metadata": {},
   "source": [
    "##### Diketahui bahwa kolom airline berisi data-data dengan bentuk kategori (tipe data String). Untuk itu perlu mengubah data yang awalnya kategori menjadi numerik. \n",
    "\n",
    "##### Caranya dengan mengubah setiap data pada kolom airline menjadi suatu nilai dengan tipe data integer. Jenis airline Vistara diubah menjadi angka 1, dengan kata lain '1' mewakili airline vistara. Begitu juga dengan data/jenis airline lainnya, diubah menjadi suatu nilai/angka seperti pada code di atas. "
   ]
  },
  {
   "cell_type": "code",
   "execution_count": 10,
   "id": "45c0eb3c-16ea-4872-9cc2-c5915fab2b5f",
   "metadata": {},
   "outputs": [],
   "source": [
    "# Kolom: source_city\n",
    "data.source_city = data.source_city.replace(\n",
    "    {\n",
    "        'Delhi' : 1,\n",
    "        'Mumbai' : 2,\n",
    "        'Bangalore' : 3,\n",
    "        'Kolkata' : 4,\n",
    "        'Hyderabad'  : 5,\n",
    "        'Chennai' : 6\n",
    "    }\n",
    ")"
   ]
  },
  {
   "cell_type": "markdown",
   "id": "20df6bbc-5112-456f-b527-9d265eac2b79",
   "metadata": {},
   "source": [
    "##### Seperti pada kolom sebelumnya, kolom source_city yang berisi kategori diubah juga menjadi numerik\n",
    "\n",
    "##### Caranya dengan mengubah setiap data pada kolom source_city menjadi suatu nilai dengan tipe data integer. Jenis source_city Delhi diubah menjadi angka 1, dengan kata lain '1' mewakili source_city Delhi. Begitu juga dengan data/jenis source_city lainnya, diubah menjadi suatu nilai/angka seperti pada code di atas. "
   ]
  },
  {
   "cell_type": "code",
   "execution_count": 11,
   "id": "2ad06778-9750-4c4e-a54f-7e7963bdea6b",
   "metadata": {},
   "outputs": [],
   "source": [
    "# Kolom: departure_time\n",
    "data.departure_time = data.departure_time.replace(\n",
    "    {\n",
    "        'Morning' : 1,\n",
    "        'Early_Morning' : 2, \n",
    "        'Evening' : 3,\n",
    "        'Night' : 4,\n",
    "        'Afternoon' : 5, \n",
    "        'Late_Night' : 6\n",
    "    }\n",
    ")"
   ]
  },
  {
   "cell_type": "markdown",
   "id": "e0e7ff03-8ec2-40a0-abc3-8eb8b44810b8",
   "metadata": {},
   "source": [
    "##### Seperti pada kolom-kolom sebelumnya, kolom departure_time yang berisi kategori diubah juga menjadi numerik\n",
    "\n",
    "##### Caranya dengan mengubah setiap data pada kolom departure_time menjadi suatu nilai dengan tipe data integer. Jenis departure_time Morning diubah menjadi angka 1, dengan kata lain '1' mewakili departure_time Morning. Begitu juga dengan data/jenis departure_time lainnya, diubah menjadi suatu nilai/angka seperti pada code di atas. "
   ]
  },
  {
   "cell_type": "code",
   "execution_count": 12,
   "id": "c94a0e85-8009-41fd-8a45-20e2f22ab155",
   "metadata": {},
   "outputs": [],
   "source": [
    "# Kolom: stops\n",
    "data.stops = data.stops.replace(\n",
    "    {\n",
    "        'one' : 1,\n",
    "        'zero' : 2,\n",
    "        'two_or_more' : 3\n",
    "    }\n",
    ")"
   ]
  },
  {
   "cell_type": "markdown",
   "id": "db13864f-52f1-488c-a23e-7b15933bf156",
   "metadata": {},
   "source": [
    "##### Seperti pada kolom-kolom sebelumnya, kolom stops yang berisi kategori diubah juga menjadi numerik\n",
    "\n",
    "##### Caranya dengan mengubah setiap data pada kolom stops menjadi suatu nilai dengan tipe data integer. Jenis stops one diubah menjadi angka 1, dengan kata lain '1' mewakili stops one. Begitu juga dengan data/jenis stops lainnya, diubah menjadi suatu nilai/angka seperti pada code di atas. "
   ]
  },
  {
   "cell_type": "code",
   "execution_count": 13,
   "id": "44973c62-43bd-454c-92a5-5b4743508b35",
   "metadata": {},
   "outputs": [],
   "source": [
    "# Kolom: arrival_time\n",
    "data.arrival_time = data.arrival_time.replace(\n",
    "    {\n",
    "        'Night' : 1,\n",
    "        'Evening' : 2,\n",
    "        'Morning' : 3,\n",
    "        'Afternoon' : 4,\n",
    "        'Early_Morning' : 5,\n",
    "        'Late_Night' : 6\n",
    "    }\n",
    ")"
   ]
  },
  {
   "cell_type": "markdown",
   "id": "7a55f5cd-672e-424e-b382-9d25752bb325",
   "metadata": {},
   "source": [
    "##### Seperti pada kolom-kolom sebelumnya, kolom arrival_time yang berisi kategori diubah juga menjadi numerik\n",
    "\n",
    "##### Caranya dengan mengubah setiap data pada kolom arrival_time menjadi suatu nilai dengan tipe data integer. Jenis arrival_time Night diubah menjadi angka 1, dengan kata lain '1' mewakili arrival_time Night. Begitu juga dengan data/jenis arrival_time lainnya, diubah menjadi suatu nilai/angka seperti pada code di atas. "
   ]
  },
  {
   "cell_type": "code",
   "execution_count": 14,
   "id": "c46f651a-0dec-4f11-b8a0-553d23512737",
   "metadata": {},
   "outputs": [],
   "source": [
    "# Kolom: destination_city\n",
    "data.destination_city = data.destination_city.replace(\n",
    "    {\n",
    "        'Mumbai' : 1,\n",
    "        'Delhi' : 2,\n",
    "        'Bangalore' : 3,\n",
    "        'Kolkata' : 4,\n",
    "        'Hyderabad' : 5,\n",
    "        'Chennai' : 6\n",
    "    }\n",
    ")"
   ]
  },
  {
   "cell_type": "markdown",
   "id": "0d327206-e023-4e3a-b98a-5e6da2fe8c2d",
   "metadata": {},
   "source": [
    "##### Seperti pada kolom-kolom sebelumnya, kolom destination_city yang berisi kategori diubah juga menjadi numerik\n",
    "\n",
    "##### Caranya dengan mengubah setiap data pada kolom destination_city menjadi suatu nilai dengan tipe data integer. Jenis destination_city Mumbai diubah menjadi angka 1, dengan kata lain '1' mewakili destination_city Mumbai. Begitu juga dengan data/jenis destination_city lainnya, diubah menjadi suatu nilai/angka seperti pada code di atas. "
   ]
  },
  {
   "cell_type": "code",
   "execution_count": 15,
   "id": "8146c261-c15e-49e7-99ac-e6aab1853a5d",
   "metadata": {},
   "outputs": [],
   "source": [
    "# Kolom: flight_class\n",
    "data.flight_class = data.flight_class.replace(\n",
    "    {\n",
    "        'Economy' : 1,\n",
    "        'Business' :2\n",
    "    }\n",
    ")"
   ]
  },
  {
   "cell_type": "markdown",
   "id": "8f574ac8-eb35-49bb-8820-46634b9c5d02",
   "metadata": {},
   "source": [
    "##### Seperti pada kolom-kolom sebelumnya, kolom flight_class yang berisi kategori diubah juga menjadi numerik\n",
    "\n",
    "##### Caranya dengan mengubah setiap data pada kolom flight_class menjadi suatu nilai dengan tipe data integer. Jenis flight_class Economy diubah menjadi angka 1, dengan kata lain '1' mewakili flight_class Economy. Begitu juga dengan data/jenis flight_class lainnya, diubah menjadi suatu nilai/angka seperti pada code di atas. "
   ]
  },
  {
   "cell_type": "code",
   "execution_count": 16,
   "id": "9ba06ef4-0322-4936-816d-a411483c4482",
   "metadata": {},
   "outputs": [
    {
     "data": {
      "text/html": [
       "<div>\n",
       "<style scoped>\n",
       "    .dataframe tbody tr th:only-of-type {\n",
       "        vertical-align: middle;\n",
       "    }\n",
       "\n",
       "    .dataframe tbody tr th {\n",
       "        vertical-align: top;\n",
       "    }\n",
       "\n",
       "    .dataframe thead th {\n",
       "        text-align: right;\n",
       "    }\n",
       "</style>\n",
       "<table border=\"1\" class=\"dataframe\">\n",
       "  <thead>\n",
       "    <tr style=\"text-align: right;\">\n",
       "      <th></th>\n",
       "      <th>airline</th>\n",
       "      <th>source_city</th>\n",
       "      <th>departure_time</th>\n",
       "      <th>stops</th>\n",
       "      <th>arrival_time</th>\n",
       "      <th>destination_city</th>\n",
       "      <th>flight_class</th>\n",
       "      <th>duration</th>\n",
       "      <th>days_left</th>\n",
       "      <th>price</th>\n",
       "    </tr>\n",
       "  </thead>\n",
       "  <tbody>\n",
       "    <tr>\n",
       "      <th>count</th>\n",
       "      <td>300153.000000</td>\n",
       "      <td>300153.000000</td>\n",
       "      <td>300153.000000</td>\n",
       "      <td>300153.000000</td>\n",
       "      <td>300153.000000</td>\n",
       "      <td>300153.000000</td>\n",
       "      <td>300153.000000</td>\n",
       "      <td>300153.000000</td>\n",
       "      <td>300153.000000</td>\n",
       "      <td>300153.000000</td>\n",
       "    </tr>\n",
       "    <tr>\n",
       "      <th>mean</th>\n",
       "      <td>2.153072</td>\n",
       "      <td>3.201487</td>\n",
       "      <td>2.794901</td>\n",
       "      <td>1.208480</td>\n",
       "      <td>2.498846</td>\n",
       "      <td>3.268316</td>\n",
       "      <td>1.311464</td>\n",
       "      <td>12.221021</td>\n",
       "      <td>26.004751</td>\n",
       "      <td>20889.660523</td>\n",
       "    </tr>\n",
       "    <tr>\n",
       "      <th>std</th>\n",
       "      <td>1.348357</td>\n",
       "      <td>1.684757</td>\n",
       "      <td>1.401659</td>\n",
       "      <td>0.503533</td>\n",
       "      <td>1.407841</td>\n",
       "      <td>1.688644</td>\n",
       "      <td>0.463093</td>\n",
       "      <td>7.191997</td>\n",
       "      <td>13.561004</td>\n",
       "      <td>22697.767366</td>\n",
       "    </tr>\n",
       "    <tr>\n",
       "      <th>min</th>\n",
       "      <td>1.000000</td>\n",
       "      <td>1.000000</td>\n",
       "      <td>1.000000</td>\n",
       "      <td>1.000000</td>\n",
       "      <td>1.000000</td>\n",
       "      <td>1.000000</td>\n",
       "      <td>1.000000</td>\n",
       "      <td>0.830000</td>\n",
       "      <td>1.000000</td>\n",
       "      <td>1105.000000</td>\n",
       "    </tr>\n",
       "    <tr>\n",
       "      <th>25%</th>\n",
       "      <td>1.000000</td>\n",
       "      <td>2.000000</td>\n",
       "      <td>2.000000</td>\n",
       "      <td>1.000000</td>\n",
       "      <td>1.000000</td>\n",
       "      <td>2.000000</td>\n",
       "      <td>1.000000</td>\n",
       "      <td>6.830000</td>\n",
       "      <td>15.000000</td>\n",
       "      <td>4783.000000</td>\n",
       "    </tr>\n",
       "    <tr>\n",
       "      <th>50%</th>\n",
       "      <td>2.000000</td>\n",
       "      <td>3.000000</td>\n",
       "      <td>3.000000</td>\n",
       "      <td>1.000000</td>\n",
       "      <td>2.000000</td>\n",
       "      <td>3.000000</td>\n",
       "      <td>1.000000</td>\n",
       "      <td>11.250000</td>\n",
       "      <td>26.000000</td>\n",
       "      <td>7425.000000</td>\n",
       "    </tr>\n",
       "    <tr>\n",
       "      <th>75%</th>\n",
       "      <td>3.000000</td>\n",
       "      <td>5.000000</td>\n",
       "      <td>4.000000</td>\n",
       "      <td>1.000000</td>\n",
       "      <td>3.000000</td>\n",
       "      <td>5.000000</td>\n",
       "      <td>2.000000</td>\n",
       "      <td>16.170000</td>\n",
       "      <td>38.000000</td>\n",
       "      <td>42521.000000</td>\n",
       "    </tr>\n",
       "    <tr>\n",
       "      <th>max</th>\n",
       "      <td>6.000000</td>\n",
       "      <td>6.000000</td>\n",
       "      <td>6.000000</td>\n",
       "      <td>3.000000</td>\n",
       "      <td>6.000000</td>\n",
       "      <td>6.000000</td>\n",
       "      <td>2.000000</td>\n",
       "      <td>49.830000</td>\n",
       "      <td>49.000000</td>\n",
       "      <td>123071.000000</td>\n",
       "    </tr>\n",
       "  </tbody>\n",
       "</table>\n",
       "</div>"
      ],
      "text/plain": [
       "             airline    source_city  departure_time          stops  \\\n",
       "count  300153.000000  300153.000000   300153.000000  300153.000000   \n",
       "mean        2.153072       3.201487        2.794901       1.208480   \n",
       "std         1.348357       1.684757        1.401659       0.503533   \n",
       "min         1.000000       1.000000        1.000000       1.000000   \n",
       "25%         1.000000       2.000000        2.000000       1.000000   \n",
       "50%         2.000000       3.000000        3.000000       1.000000   \n",
       "75%         3.000000       5.000000        4.000000       1.000000   \n",
       "max         6.000000       6.000000        6.000000       3.000000   \n",
       "\n",
       "        arrival_time  destination_city   flight_class       duration  \\\n",
       "count  300153.000000     300153.000000  300153.000000  300153.000000   \n",
       "mean        2.498846          3.268316       1.311464      12.221021   \n",
       "std         1.407841          1.688644       0.463093       7.191997   \n",
       "min         1.000000          1.000000       1.000000       0.830000   \n",
       "25%         1.000000          2.000000       1.000000       6.830000   \n",
       "50%         2.000000          3.000000       1.000000      11.250000   \n",
       "75%         3.000000          5.000000       2.000000      16.170000   \n",
       "max         6.000000          6.000000       2.000000      49.830000   \n",
       "\n",
       "           days_left          price  \n",
       "count  300153.000000  300153.000000  \n",
       "mean       26.004751   20889.660523  \n",
       "std        13.561004   22697.767366  \n",
       "min         1.000000    1105.000000  \n",
       "25%        15.000000    4783.000000  \n",
       "50%        26.000000    7425.000000  \n",
       "75%        38.000000   42521.000000  \n",
       "max        49.000000  123071.000000  "
      ]
     },
     "execution_count": 16,
     "metadata": {},
     "output_type": "execute_result"
    }
   ],
   "source": [
    "data.describe()"
   ]
  },
  {
   "cell_type": "markdown",
   "id": "5fc473a4-38ef-4281-ab93-493f01ebd4a1",
   "metadata": {},
   "source": [
    "##### Setelah diubah menjadi numerik, untuk menampilkan ringkasan statistik deskriptif untuk kolom-kolom numerik di DataFrame, digunakan method describe()"
   ]
  },
  {
   "cell_type": "code",
   "execution_count": 17,
   "id": "1299e7af-70b1-4e5e-954c-c0d0081730d7",
   "metadata": {},
   "outputs": [],
   "source": [
    "data.drop(columns='flight', inplace=True)"
   ]
  },
  {
   "cell_type": "markdown",
   "id": "cdcd5e0e-4ded-40ab-8e1b-9e5365778152",
   "metadata": {},
   "source": [
    "##### Kolom flight dihapus dari DataFrame karena bertindak kolom ini bertindak seperti ID dan tidak diperlukan untuk pemodelan."
   ]
  },
  {
   "cell_type": "code",
   "execution_count": 18,
   "id": "9d8e4067-cbea-4798-a20e-0d68ffb5ed23",
   "metadata": {},
   "outputs": [
    {
     "name": "stdout",
     "output_type": "stream",
     "text": [
      "<class 'pandas.core.frame.DataFrame'>\n",
      "RangeIndex: 300153 entries, 0 to 300152\n",
      "Data columns (total 10 columns):\n",
      " #   Column            Non-Null Count   Dtype  \n",
      "---  ------            --------------   -----  \n",
      " 0   airline           300153 non-null  int64  \n",
      " 1   source_city       300153 non-null  int64  \n",
      " 2   departure_time    300153 non-null  int64  \n",
      " 3   stops             300153 non-null  int64  \n",
      " 4   arrival_time      300153 non-null  int64  \n",
      " 5   destination_city  300153 non-null  int64  \n",
      " 6   flight_class      300153 non-null  int64  \n",
      " 7   duration          300153 non-null  float64\n",
      " 8   days_left         300153 non-null  int64  \n",
      " 9   price             300153 non-null  int64  \n",
      "dtypes: float64(1), int64(9)\n",
      "memory usage: 22.9 MB\n"
     ]
    }
   ],
   "source": [
    "data.info()"
   ]
  },
  {
   "cell_type": "markdown",
   "id": "8e47ab86-5d42-4c82-8f8f-6e96f210ffc5",
   "metadata": {},
   "source": [
    "##### Memanggil kembali method info() untuk melihat bahwa kolom 'fligt' telah didrop atau terhapus"
   ]
  },
  {
   "cell_type": "markdown",
   "id": "871853ce-89f7-4b66-badc-f2a22189c7da",
   "metadata": {},
   "source": [
    "#### 2. Normalisasi Data"
   ]
  },
  {
   "cell_type": "code",
   "execution_count": 19,
   "id": "97b44632-3276-48fb-b4b9-6f58ece73060",
   "metadata": {},
   "outputs": [],
   "source": [
    "x_temp = data.drop(columns='price') \n",
    "y = data.price"
   ]
  },
  {
   "cell_type": "markdown",
   "id": "76d27c86-c674-4d61-8717-15ff5d1f9a39",
   "metadata": {},
   "source": [
    "##### Code di atas berisi pendefinisian variabel x_temp sebagai atribut dan y sebagai label/target, dimana x_temp berisi semua kolom kecuali kolom 'price'(kolom 'price didrop/dihapus dari DataFrame'), karena kolom 'price' digunakan sebagai label/target. Kolom y berisi kolom 'price'"
   ]
  },
  {
   "cell_type": "code",
   "execution_count": 20,
   "id": "05e65d4b-7577-45a4-a15e-ed3a51d2403b",
   "metadata": {},
   "outputs": [],
   "source": [
    "scaler = MinMaxScaler().fit_transform(x_temp)\n",
    "x = pd.DataFrame(scaler, columns=x_temp.columns)"
   ]
  },
  {
   "cell_type": "markdown",
   "id": "db1b4d9e-bb53-4b39-97e3-3988cef7ff48",
   "metadata": {},
   "source": [
    "##### Code di atas digunakan untuk melakukan normalisasi data dengan skala minimum-maksimum menggunakan MinMaxScaler dari library scikit-learn.\n",
    "\n",
    "##### MinMaxScaler mengubah skala fitur-fitur dalam x_temp sehingga nilainya berada dalam rentang [0, 1].\n",
    "\n",
    "##### Kemudian variabel x menampung DataFrame yang  berisi data x_temp yang telah dinormalisasi."
   ]
  },
  {
   "cell_type": "code",
   "execution_count": 21,
   "id": "89c53885-3077-4f41-a7a6-1ac154543599",
   "metadata": {},
   "outputs": [
    {
     "data": {
      "text/html": [
       "<style type=\"text/css\">\n",
       "#T_aa6c4_row0_col0, #T_aa6c4_row1_col0, #T_aa6c4_row2_col0, #T_aa6c4_row3_col0, #T_aa6c4_row3_col3, #T_aa6c4_row4_col0, #T_aa6c4_row5_col0, #T_aa6c4_row6_col0, #T_aa6c4_row6_col3, #T_aa6c4_row7_col0, #T_aa6c4_row8_col0 {\n",
       "  background-color: #fff7fb;\n",
       "  color: #000000;\n",
       "}\n",
       "#T_aa6c4_row0_col1, #T_aa6c4_row7_col1 {\n",
       "  background-color: #d4d4e8;\n",
       "  color: #000000;\n",
       "}\n",
       "#T_aa6c4_row0_col2 {\n",
       "  background-color: #c9cee4;\n",
       "  color: #000000;\n",
       "}\n",
       "#T_aa6c4_row0_col3, #T_aa6c4_row4_col3 {\n",
       "  background-color: #dbdaeb;\n",
       "  color: #000000;\n",
       "}\n",
       "#T_aa6c4_row0_col4, #T_aa6c4_row1_col4, #T_aa6c4_row2_col4, #T_aa6c4_row3_col4, #T_aa6c4_row4_col4, #T_aa6c4_row5_col4, #T_aa6c4_row6_col4, #T_aa6c4_row7_col4, #T_aa6c4_row8_col4 {\n",
       "  background-color: #023858;\n",
       "  color: #f1f1f1;\n",
       "}\n",
       "#T_aa6c4_row1_col1 {\n",
       "  background-color: #8cb3d5;\n",
       "  color: #000000;\n",
       "}\n",
       "#T_aa6c4_row1_col2, #T_aa6c4_row5_col2 {\n",
       "  background-color: #b3c3de;\n",
       "  color: #000000;\n",
       "}\n",
       "#T_aa6c4_row1_col3, #T_aa6c4_row2_col3, #T_aa6c4_row5_col3 {\n",
       "  background-color: #9cb9d9;\n",
       "  color: #000000;\n",
       "}\n",
       "#T_aa6c4_row2_col1 {\n",
       "  background-color: #acc0dd;\n",
       "  color: #000000;\n",
       "}\n",
       "#T_aa6c4_row2_col2 {\n",
       "  background-color: #c6cce3;\n",
       "  color: #000000;\n",
       "}\n",
       "#T_aa6c4_row3_col1 {\n",
       "  background-color: #f0eaf4;\n",
       "  color: #000000;\n",
       "}\n",
       "#T_aa6c4_row3_col2 {\n",
       "  background-color: #d0d1e6;\n",
       "  color: #000000;\n",
       "}\n",
       "#T_aa6c4_row4_col1 {\n",
       "  background-color: #c0c9e2;\n",
       "  color: #000000;\n",
       "}\n",
       "#T_aa6c4_row4_col2, #T_aa6c4_row8_col2 {\n",
       "  background-color: #c5cce3;\n",
       "  color: #000000;\n",
       "}\n",
       "#T_aa6c4_row5_col1 {\n",
       "  background-color: #86b0d3;\n",
       "  color: #000000;\n",
       "}\n",
       "#T_aa6c4_row6_col1 {\n",
       "  background-color: #bcc7e1;\n",
       "  color: #000000;\n",
       "}\n",
       "#T_aa6c4_row6_col2 {\n",
       "  background-color: #83afd3;\n",
       "  color: #f1f1f1;\n",
       "}\n",
       "#T_aa6c4_row7_col2 {\n",
       "  background-color: #e7e3f0;\n",
       "  color: #000000;\n",
       "}\n",
       "#T_aa6c4_row7_col3 {\n",
       "  background-color: #d9d8ea;\n",
       "  color: #000000;\n",
       "}\n",
       "#T_aa6c4_row8_col1, #T_aa6c4_row8_col3 {\n",
       "  background-color: #69a5cc;\n",
       "  color: #f1f1f1;\n",
       "}\n",
       "</style>\n",
       "<table id=\"T_aa6c4\">\n",
       "  <thead>\n",
       "    <tr>\n",
       "      <th class=\"blank level0\" >&nbsp;</th>\n",
       "      <th id=\"T_aa6c4_level0_col0\" class=\"col_heading level0 col0\" >min</th>\n",
       "      <th id=\"T_aa6c4_level0_col1\" class=\"col_heading level0 col1\" >mean</th>\n",
       "      <th id=\"T_aa6c4_level0_col2\" class=\"col_heading level0 col2\" >std</th>\n",
       "      <th id=\"T_aa6c4_level0_col3\" class=\"col_heading level0 col3\" >50%</th>\n",
       "      <th id=\"T_aa6c4_level0_col4\" class=\"col_heading level0 col4\" >max</th>\n",
       "    </tr>\n",
       "  </thead>\n",
       "  <tbody>\n",
       "    <tr>\n",
       "      <th id=\"T_aa6c4_level0_row0\" class=\"row_heading level0 row0\" >airline</th>\n",
       "      <td id=\"T_aa6c4_row0_col0\" class=\"data row0 col0\" >0.000000</td>\n",
       "      <td id=\"T_aa6c4_row0_col1\" class=\"data row0 col1\" >0.230614</td>\n",
       "      <td id=\"T_aa6c4_row0_col2\" class=\"data row0 col2\" >0.269671</td>\n",
       "      <td id=\"T_aa6c4_row0_col3\" class=\"data row0 col3\" >0.200000</td>\n",
       "      <td id=\"T_aa6c4_row0_col4\" class=\"data row0 col4\" >1.000000</td>\n",
       "    </tr>\n",
       "    <tr>\n",
       "      <th id=\"T_aa6c4_level0_row1\" class=\"row_heading level0 row1\" >source_city</th>\n",
       "      <td id=\"T_aa6c4_row1_col0\" class=\"data row1 col0\" >0.000000</td>\n",
       "      <td id=\"T_aa6c4_row1_col1\" class=\"data row1 col1\" >0.440297</td>\n",
       "      <td id=\"T_aa6c4_row1_col2\" class=\"data row1 col2\" >0.336951</td>\n",
       "      <td id=\"T_aa6c4_row1_col3\" class=\"data row1 col3\" >0.400000</td>\n",
       "      <td id=\"T_aa6c4_row1_col4\" class=\"data row1 col4\" >1.000000</td>\n",
       "    </tr>\n",
       "    <tr>\n",
       "      <th id=\"T_aa6c4_level0_row2\" class=\"row_heading level0 row2\" >departure_time</th>\n",
       "      <td id=\"T_aa6c4_row2_col0\" class=\"data row2 col0\" >0.000000</td>\n",
       "      <td id=\"T_aa6c4_row2_col1\" class=\"data row2 col1\" >0.358980</td>\n",
       "      <td id=\"T_aa6c4_row2_col2\" class=\"data row2 col2\" >0.280332</td>\n",
       "      <td id=\"T_aa6c4_row2_col3\" class=\"data row2 col3\" >0.400000</td>\n",
       "      <td id=\"T_aa6c4_row2_col4\" class=\"data row2 col4\" >1.000000</td>\n",
       "    </tr>\n",
       "    <tr>\n",
       "      <th id=\"T_aa6c4_level0_row3\" class=\"row_heading level0 row3\" >stops</th>\n",
       "      <td id=\"T_aa6c4_row3_col0\" class=\"data row3 col0\" >0.000000</td>\n",
       "      <td id=\"T_aa6c4_row3_col1\" class=\"data row3 col1\" >0.104240</td>\n",
       "      <td id=\"T_aa6c4_row3_col2\" class=\"data row3 col2\" >0.251766</td>\n",
       "      <td id=\"T_aa6c4_row3_col3\" class=\"data row3 col3\" >0.000000</td>\n",
       "      <td id=\"T_aa6c4_row3_col4\" class=\"data row3 col4\" >1.000000</td>\n",
       "    </tr>\n",
       "    <tr>\n",
       "      <th id=\"T_aa6c4_level0_row4\" class=\"row_heading level0 row4\" >arrival_time</th>\n",
       "      <td id=\"T_aa6c4_row4_col0\" class=\"data row4 col0\" >0.000000</td>\n",
       "      <td id=\"T_aa6c4_row4_col1\" class=\"data row4 col1\" >0.299769</td>\n",
       "      <td id=\"T_aa6c4_row4_col2\" class=\"data row4 col2\" >0.281568</td>\n",
       "      <td id=\"T_aa6c4_row4_col3\" class=\"data row4 col3\" >0.200000</td>\n",
       "      <td id=\"T_aa6c4_row4_col4\" class=\"data row4 col4\" >1.000000</td>\n",
       "    </tr>\n",
       "    <tr>\n",
       "      <th id=\"T_aa6c4_level0_row5\" class=\"row_heading level0 row5\" >destination_city</th>\n",
       "      <td id=\"T_aa6c4_row5_col0\" class=\"data row5 col0\" >0.000000</td>\n",
       "      <td id=\"T_aa6c4_row5_col1\" class=\"data row5 col1\" >0.453663</td>\n",
       "      <td id=\"T_aa6c4_row5_col2\" class=\"data row5 col2\" >0.337729</td>\n",
       "      <td id=\"T_aa6c4_row5_col3\" class=\"data row5 col3\" >0.400000</td>\n",
       "      <td id=\"T_aa6c4_row5_col4\" class=\"data row5 col4\" >1.000000</td>\n",
       "    </tr>\n",
       "    <tr>\n",
       "      <th id=\"T_aa6c4_level0_row6\" class=\"row_heading level0 row6\" >flight_class</th>\n",
       "      <td id=\"T_aa6c4_row6_col0\" class=\"data row6 col0\" >0.000000</td>\n",
       "      <td id=\"T_aa6c4_row6_col1\" class=\"data row6 col1\" >0.311464</td>\n",
       "      <td id=\"T_aa6c4_row6_col2\" class=\"data row6 col2\" >0.463093</td>\n",
       "      <td id=\"T_aa6c4_row6_col3\" class=\"data row6 col3\" >0.000000</td>\n",
       "      <td id=\"T_aa6c4_row6_col4\" class=\"data row6 col4\" >1.000000</td>\n",
       "    </tr>\n",
       "    <tr>\n",
       "      <th id=\"T_aa6c4_level0_row7\" class=\"row_heading level0 row7\" >duration</th>\n",
       "      <td id=\"T_aa6c4_row7_col0\" class=\"data row7 col0\" >0.000000</td>\n",
       "      <td id=\"T_aa6c4_row7_col1\" class=\"data row7 col1\" >0.232470</td>\n",
       "      <td id=\"T_aa6c4_row7_col2\" class=\"data row7 col2\" >0.146775</td>\n",
       "      <td id=\"T_aa6c4_row7_col3\" class=\"data row7 col3\" >0.212653</td>\n",
       "      <td id=\"T_aa6c4_row7_col4\" class=\"data row7 col4\" >1.000000</td>\n",
       "    </tr>\n",
       "    <tr>\n",
       "      <th id=\"T_aa6c4_level0_row8\" class=\"row_heading level0 row8\" >days_left</th>\n",
       "      <td id=\"T_aa6c4_row8_col0\" class=\"data row8 col0\" >0.000000</td>\n",
       "      <td id=\"T_aa6c4_row8_col1\" class=\"data row8 col1\" >0.520932</td>\n",
       "      <td id=\"T_aa6c4_row8_col2\" class=\"data row8 col2\" >0.282521</td>\n",
       "      <td id=\"T_aa6c4_row8_col3\" class=\"data row8 col3\" >0.520833</td>\n",
       "      <td id=\"T_aa6c4_row8_col4\" class=\"data row8 col4\" >1.000000</td>\n",
       "    </tr>\n",
       "  </tbody>\n",
       "</table>\n"
      ],
      "text/plain": [
       "<pandas.io.formats.style.Styler at 0x1a36d792690>"
      ]
     },
     "execution_count": 21,
     "metadata": {},
     "output_type": "execute_result"
    }
   ],
   "source": [
    "x.describe().T[['min', 'mean', 'std', '50%', 'max']].style.background_gradient(axis=1)"
   ]
  },
  {
   "cell_type": "markdown",
   "id": "b2bb3acd-a450-4942-84b4-849345eda9b0",
   "metadata": {},
   "source": [
    "##### Code di atas berfungsi menampilkan nilai statistik (min, mean, standar deviasi, 50%/median, dan max) setelah data dinormalisasi"
   ]
  },
  {
   "cell_type": "code",
   "execution_count": 22,
   "id": "91792392-a708-4828-90ec-3668bdfc8625",
   "metadata": {},
   "outputs": [
    {
     "name": "stdout",
     "output_type": "stream",
     "text": [
      "        airline  source_city  departure_time  stops  arrival_time  \\\n",
      "0           1.0          0.0             0.4    0.5           0.0   \n",
      "1           1.0          0.0             0.2    0.5           0.4   \n",
      "2           0.8          0.0             0.2    0.5           0.8   \n",
      "3           0.0          0.0             0.0    0.5           0.6   \n",
      "4           0.0          0.0             0.0    0.5           0.4   \n",
      "...         ...          ...             ...    ...           ...   \n",
      "300148      0.0          1.0             0.0    0.0           0.2   \n",
      "300149      0.0          1.0             0.8    0.0           0.0   \n",
      "300150      0.0          1.0             0.2    0.0           0.0   \n",
      "300151      0.0          1.0             0.2    0.0           0.2   \n",
      "300152      0.0          1.0             0.0    0.0           0.2   \n",
      "\n",
      "        destination_city  flight_class  duration  days_left  \n",
      "0                    0.0           0.0  0.027347        0.0  \n",
      "1                    0.0           0.0  0.030612        0.0  \n",
      "2                    0.0           0.0  0.027347        0.0  \n",
      "3                    0.0           0.0  0.028980        0.0  \n",
      "4                    0.0           0.0  0.030612        0.0  \n",
      "...                  ...           ...       ...        ...  \n",
      "300148               0.8           1.0  0.188776        1.0  \n",
      "300149               0.8           1.0  0.195714        1.0  \n",
      "300150               0.8           1.0  0.265306        1.0  \n",
      "300151               0.8           1.0  0.187143        1.0  \n",
      "300152               0.8           1.0  0.188776        1.0  \n",
      "\n",
      "[300153 rows x 9 columns]\n"
     ]
    }
   ],
   "source": [
    "main_x = x.copy()\n",
    "print(main_x)"
   ]
  },
  {
   "cell_type": "markdown",
   "id": "56711451-f49c-4bb7-8fe3-6821e652b296",
   "metadata": {},
   "source": [
    "##### Method copy() pada code di atas berfungsi membuat salinan dari DataFrame x dan disimpan di variabel yang disebut main_x. \n",
    "\n",
    "##### Fungsi copy() pada DataFrame digunakan untuk membuat salinan yang terpisah dari DataFrame asli sehingga perubahan yang dilakukan pada main_x tidak akan mempengaruhi x dan sebaliknya. Ini penting untuk menjaga integritas data asli sambil melakukan manipulasi atau analisis pada salinan data."
   ]
  },
  {
   "cell_type": "markdown",
   "id": "5920b0bd-5a1a-4473-b520-4b975750450f",
   "metadata": {},
   "source": [
    "## Modelling"
   ]
  },
  {
   "cell_type": "markdown",
   "id": "099fb4dc-1295-4d01-b237-2a3be972a6f8",
   "metadata": {},
   "source": [
    "#### Membagi Train Sets dan Test Sets"
   ]
  },
  {
   "cell_type": "code",
   "execution_count": 23,
   "id": "db2ef08f-a859-4edd-8a53-f8e2cf02dbe1",
   "metadata": {},
   "outputs": [
    {
     "name": "stdout",
     "output_type": "stream",
     "text": [
      "x_train:          airline  source_city  departure_time  stops  arrival_time  \\\n",
      "8891        0.0          0.0             0.8    0.0           0.4   \n",
      "273375      0.0          0.6             0.2    0.0           0.0   \n",
      "229182      0.0          0.2             0.4    0.5           0.0   \n",
      "38568       0.6          0.0             1.0    0.0           0.8   \n",
      "218311      0.2          0.0             0.0    0.0           0.4   \n",
      "...         ...          ...             ...    ...           ...   \n",
      "211543      0.2          0.0             0.0    0.5           0.4   \n",
      "86293       0.0          0.4             0.0    0.0           0.0   \n",
      "122579      0.6          0.6             0.4    0.0           1.0   \n",
      "152315      0.2          0.6             0.8    0.0           0.8   \n",
      "117952      0.0          0.4             0.6    0.0           0.2   \n",
      "\n",
      "        destination_city  flight_class  duration  days_left  \n",
      "8891                 0.0           0.0  0.375918   0.895833  \n",
      "273375               1.0           1.0  0.301020   0.375000  \n",
      "229182               0.2           1.0  0.027347   0.854167  \n",
      "38568                1.0           0.0  0.098776   0.458333  \n",
      "218311               0.6           1.0  0.467755   0.770833  \n",
      "...                  ...           ...       ...        ...  \n",
      "211543               0.0           1.0  0.028980   0.937500  \n",
      "86293                0.2           0.0  0.256939   0.250000  \n",
      "122579               0.2           0.0  0.178571   0.395833  \n",
      "152315               1.0           0.0  0.355510   0.958333  \n",
      "117952               1.0           0.0  0.374286   0.604167  \n",
      "\n",
      "[240122 rows x 9 columns]\n",
      "y_train:  8891       5227\n",
      "273375    55983\n",
      "229182    36700\n",
      "38568      4896\n",
      "218311    47545\n",
      "          ...  \n",
      "211543    22152\n",
      "86293     10744\n",
      "122579    13386\n",
      "152315     4893\n",
      "117952     6510\n",
      "Name: price, Length: 240122, dtype: int64\n",
      "x_test:          airline  source_city  departure_time  stops  arrival_time  \\\n",
      "44712       0.0          0.2             0.8    0.0           0.2   \n",
      "233644      0.0          0.2             0.0    0.0           0.2   \n",
      "121467      0.2          0.6             0.2    0.5           0.4   \n",
      "185846      0.2          1.0             0.6    0.5           0.0   \n",
      "163599      0.2          0.8             0.4    0.0           0.2   \n",
      "...         ...          ...             ...    ...           ...   \n",
      "169966      0.0          0.8             0.2    0.0           0.0   \n",
      "270514      0.0          0.6             0.0    0.0           0.0   \n",
      "122229      0.2          0.6             0.4    0.0           0.0   \n",
      "72084       0.4          0.2             0.8    0.0           0.2   \n",
      "122259      0.4          0.6             0.2    0.5           0.8   \n",
      "\n",
      "        destination_city  flight_class  duration  days_left  \n",
      "44712                0.2           0.0  0.544286   0.208333  \n",
      "233644               0.4           1.0  0.124286   0.875000  \n",
      "121467               0.2           0.0  0.028980   0.270833  \n",
      "185846               0.2           0.0  0.040816   0.791667  \n",
      "163599               0.0           0.0  0.508571   0.729167  \n",
      "...                  ...           ...       ...        ...  \n",
      "169966               0.4           0.0  0.260204   0.875000  \n",
      "270514               0.8           1.0  0.197347   0.145833  \n",
      "122229               0.2           0.0  0.515306   0.354167  \n",
      "72084                0.8           0.0  0.085102   0.270833  \n",
      "122259               0.2           0.0  0.034082   0.375000  \n",
      "\n",
      "[60031 rows x 9 columns]\n",
      "y_test:  44712     10721\n",
      "233644    66928\n",
      "121467     6909\n",
      "185846     2271\n",
      "163599     4363\n",
      "          ...  \n",
      "169966     6461\n",
      "270514    49207\n",
      "122229    20291\n",
      "72084     18281\n",
      "122259     3999\n",
      "Name: price, Length: 60031, dtype: int64\n"
     ]
    }
   ],
   "source": [
    "x_train, x_test, y_train, y_test = train_test_split(main_x, y, test_size=0.2, random_state=0)\n",
    "\n",
    "print(\"x_train: \", x_train)\n",
    "print(\"y_train: \", y_train)\n",
    "print(\"x_test: \", x_test)\n",
    "print(\"y_test: \", y_test) "
   ]
  },
  {
   "cell_type": "markdown",
   "id": "856f83ec-98f7-4cc9-85c4-2d8bab677188",
   "metadata": {},
   "source": [
    "##### Code di atas berfungsi untuk membagi data baik variabel x (atribut) maupun variabel y (label/target) menjadi training dan testing sets. Pembagiannya yaitu 20% data dijadikan sebagai test sets, sehingga sisanya yaitu 80% dari data dijakan sebagai train sets. Random_state digunakan untuk memastikan bahwa pembagian data konsisten dan dapat direproduksi setiap kali kode dijalankan\n"
   ]
  },
  {
   "cell_type": "markdown",
   "id": "a8729a70-673f-4a9f-a4d2-1a5d4f24db5a",
   "metadata": {},
   "source": [
    "#### Desicion Tree menggunakan Cross Validation\n"
   ]
  },
  {
   "cell_type": "code",
   "execution_count": 24,
   "id": "63d7b4b7-4e94-4893-b5f4-0ce130229a46",
   "metadata": {},
   "outputs": [
    {
     "name": "stdout",
     "output_type": "stream",
     "text": [
      "Cross Validation Score: 0.976\n",
      "Cross Validation Score: 0.977\n",
      "Cross Validation Score: 0.976\n",
      "Cross Validation Score: 0.977\n",
      "Cross Validation Score: 0.977\n"
     ]
    }
   ],
   "source": [
    "X, y = data.drop(columns='price'), data['price']\n",
    "clf = DecisionTreeClassifier(random_state=42)\n",
    "k_folds = KFold(n_splits=5, shuffle=True, random_state=42)\n",
    "\n",
    "for train_index, test_index in k_folds.split(X):\n",
    "    X_train, X_test = X.iloc[train_index], X.iloc[test_index]\n",
    "    y_train, y_test = y.iloc[train_index], y.iloc[test_index]\n",
    "\n",
    "    clf.fit(X_train, y_train)\n",
    "    y_pred = clf.predict(X_test)\n",
    "    r2 = metrics.r2_score(y_test, y_pred)\n",
    "    print(f'Cross Validation Score: {r2:.3f}')"
   ]
  },
  {
   "cell_type": "markdown",
   "id": "8601a554-f557-473f-a769-94d2b382755c",
   "metadata": {},
   "source": [
    "##### Code di atas befungsi untuk melakukan cross-validation menggunakan K-Fold dengan 5 fold pada model decision tree. Data dibagi menjadi train dan test sets untuk setiap fold, kemudian model dilatih dan diuji, dan skor cross validation dicetak untuk setiap fold. Hal tsb berfungsi untuk mengevaluasi kinerja model secara lebih robust dan menghindari overfitting."
   ]
  }
 ],
 "metadata": {
  "kernelspec": {
   "display_name": "Python 3 (ipykernel)",
   "language": "python",
   "name": "python3"
  },
  "language_info": {
   "codemirror_mode": {
    "name": "ipython",
    "version": 3
   },
   "file_extension": ".py",
   "mimetype": "text/x-python",
   "name": "python",
   "nbconvert_exporter": "python",
   "pygments_lexer": "ipython3",
   "version": "3.11.7"
  }
 },
 "nbformat": 4,
 "nbformat_minor": 5
}
